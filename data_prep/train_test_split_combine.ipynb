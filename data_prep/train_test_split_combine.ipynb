{
 "cells": [
  {
   "cell_type": "code",
   "execution_count": 1,
   "metadata": {},
   "outputs": [
    {
     "name": "stderr",
     "output_type": "stream",
     "text": [
      "D:\\Interface\\Anaconda\\envs\\py37\\lib\\site-packages\\ipykernel\\parentpoller.py:116: UserWarning: Parent poll failed.  If the frontend dies,\n",
      "                the kernel may be left running.  Please let us know\n",
      "                about your system (bitness, Python, etc.) at\n",
      "                ipython-dev@scipy.org\n",
      "  ipython-dev@scipy.org\"\"\")\n"
     ]
    },
    {
     "ename": "ModuleNotFoundError",
     "evalue": "No module named 'pandas'",
     "output_type": "error",
     "traceback": [
      "\u001b[1;31m---------------------------------------------------------------------------\u001b[0m",
      "\u001b[1;31mModuleNotFoundError\u001b[0m                       Traceback (most recent call last)",
      "\u001b[1;32m<ipython-input-1-baf368f80de7>\u001b[0m in \u001b[0;36m<module>\u001b[1;34m\u001b[0m\n\u001b[1;32m----> 1\u001b[1;33m \u001b[1;32mimport\u001b[0m \u001b[0mpandas\u001b[0m \u001b[1;32mas\u001b[0m \u001b[0mpd\u001b[0m\u001b[1;33m\u001b[0m\u001b[1;33m\u001b[0m\u001b[0m\n\u001b[0m\u001b[0;32m      2\u001b[0m \u001b[1;32mimport\u001b[0m \u001b[0mnumpy\u001b[0m \u001b[1;32mas\u001b[0m \u001b[0mnp\u001b[0m\u001b[1;33m\u001b[0m\u001b[1;33m\u001b[0m\u001b[0m\n",
      "\u001b[1;31mModuleNotFoundError\u001b[0m: No module named 'pandas'"
     ]
    }
   ],
   "source": [
    "import pandas as pd\n",
    "import numpy as np"
   ]
  },
  {
   "cell_type": "code",
   "execution_count": 2,
   "metadata": {},
   "outputs": [],
   "source": [
    "b = pd.read_csv('./data_raw/walking/behind1.csv', header=None)\n",
    "# b = np.genfromtxt('./data_raw/behind1.csv')"
   ]
  },
  {
   "cell_type": "code",
   "execution_count": 3,
   "metadata": {},
   "outputs": [
    {
     "data": {
      "text/html": [
       "<div>\n",
       "<style scoped>\n",
       "    .dataframe tbody tr th:only-of-type {\n",
       "        vertical-align: middle;\n",
       "    }\n",
       "\n",
       "    .dataframe tbody tr th {\n",
       "        vertical-align: top;\n",
       "    }\n",
       "\n",
       "    .dataframe thead th {\n",
       "        text-align: right;\n",
       "    }\n",
       "</style>\n",
       "<table border=\"1\" class=\"dataframe\">\n",
       "  <thead>\n",
       "    <tr style=\"text-align: right;\">\n",
       "      <th></th>\n",
       "      <th>0</th>\n",
       "      <th>1</th>\n",
       "      <th>2</th>\n",
       "      <th>3</th>\n",
       "      <th>4</th>\n",
       "      <th>5</th>\n",
       "      <th>6</th>\n",
       "      <th>7</th>\n",
       "      <th>8</th>\n",
       "      <th>9</th>\n",
       "      <th>...</th>\n",
       "      <th>106</th>\n",
       "      <th>107</th>\n",
       "      <th>108</th>\n",
       "      <th>109</th>\n",
       "      <th>110</th>\n",
       "      <th>111</th>\n",
       "      <th>112</th>\n",
       "      <th>113</th>\n",
       "      <th>114</th>\n",
       "      <th>115</th>\n",
       "    </tr>\n",
       "  </thead>\n",
       "  <tbody>\n",
       "    <tr>\n",
       "      <th>0</th>\n",
       "      <td>6.100000</td>\n",
       "      <td>6.150000</td>\n",
       "      <td>6.150000</td>\n",
       "      <td>6.150000</td>\n",
       "      <td>6.150000</td>\n",
       "      <td>6.150000</td>\n",
       "      <td>6.200000</td>\n",
       "      <td>6.200000</td>\n",
       "      <td>6.200000</td>\n",
       "      <td>6.200000</td>\n",
       "      <td>...</td>\n",
       "      <td>20.400000</td>\n",
       "      <td>20.450000</td>\n",
       "      <td>20.500000</td>\n",
       "      <td>20.550000</td>\n",
       "      <td>20.650000</td>\n",
       "      <td>20.700000</td>\n",
       "      <td>20.750000</td>\n",
       "      <td>20.800000</td>\n",
       "      <td>20.800000</td>\n",
       "      <td>20.800000</td>\n",
       "    </tr>\n",
       "    <tr>\n",
       "      <th>1</th>\n",
       "      <td>0.081096</td>\n",
       "      <td>0.081096</td>\n",
       "      <td>-0.324384</td>\n",
       "      <td>-0.324384</td>\n",
       "      <td>-0.324384</td>\n",
       "      <td>-0.324384</td>\n",
       "      <td>-0.324384</td>\n",
       "      <td>-0.081096</td>\n",
       "      <td>-0.162192</td>\n",
       "      <td>-0.162192</td>\n",
       "      <td>...</td>\n",
       "      <td>3.162747</td>\n",
       "      <td>3.081651</td>\n",
       "      <td>3.162747</td>\n",
       "      <td>3.243843</td>\n",
       "      <td>3.243843</td>\n",
       "      <td>3.162747</td>\n",
       "      <td>3.243843</td>\n",
       "      <td>3.162747</td>\n",
       "      <td>3.162747</td>\n",
       "      <td>3.243843</td>\n",
       "    </tr>\n",
       "    <tr>\n",
       "      <th>2</th>\n",
       "      <td>0.949023</td>\n",
       "      <td>0.949023</td>\n",
       "      <td>0.949023</td>\n",
       "      <td>0.949023</td>\n",
       "      <td>0.916298</td>\n",
       "      <td>0.883573</td>\n",
       "      <td>0.949023</td>\n",
       "      <td>0.949023</td>\n",
       "      <td>0.949023</td>\n",
       "      <td>0.916298</td>\n",
       "      <td>...</td>\n",
       "      <td>0.065450</td>\n",
       "      <td>-0.098175</td>\n",
       "      <td>-0.098175</td>\n",
       "      <td>-0.098175</td>\n",
       "      <td>-0.098175</td>\n",
       "      <td>-0.098175</td>\n",
       "      <td>-0.098175</td>\n",
       "      <td>-0.130900</td>\n",
       "      <td>-0.098175</td>\n",
       "      <td>-0.098175</td>\n",
       "    </tr>\n",
       "    <tr>\n",
       "      <th>3</th>\n",
       "      <td>11.718960</td>\n",
       "      <td>14.269162</td>\n",
       "      <td>19.428777</td>\n",
       "      <td>10.732330</td>\n",
       "      <td>10.532098</td>\n",
       "      <td>10.080152</td>\n",
       "      <td>20.837343</td>\n",
       "      <td>12.133065</td>\n",
       "      <td>12.203264</td>\n",
       "      <td>12.263045</td>\n",
       "      <td>...</td>\n",
       "      <td>15.756983</td>\n",
       "      <td>12.920799</td>\n",
       "      <td>16.579803</td>\n",
       "      <td>11.111804</td>\n",
       "      <td>9.469504</td>\n",
       "      <td>17.266710</td>\n",
       "      <td>9.824371</td>\n",
       "      <td>10.226172</td>\n",
       "      <td>10.467099</td>\n",
       "      <td>8.536636</td>\n",
       "    </tr>\n",
       "    <tr>\n",
       "      <th>4</th>\n",
       "      <td>6.100000</td>\n",
       "      <td>6.150000</td>\n",
       "      <td>6.200000</td>\n",
       "      <td>6.250000</td>\n",
       "      <td>6.300000</td>\n",
       "      <td>6.350000</td>\n",
       "      <td>6.450000</td>\n",
       "      <td>6.500000</td>\n",
       "      <td>6.550000</td>\n",
       "      <td>6.600000</td>\n",
       "      <td>...</td>\n",
       "      <td>NaN</td>\n",
       "      <td>NaN</td>\n",
       "      <td>NaN</td>\n",
       "      <td>NaN</td>\n",
       "      <td>NaN</td>\n",
       "      <td>NaN</td>\n",
       "      <td>NaN</td>\n",
       "      <td>NaN</td>\n",
       "      <td>NaN</td>\n",
       "      <td>NaN</td>\n",
       "    </tr>\n",
       "    <tr>\n",
       "      <th>5</th>\n",
       "      <td>0.000000</td>\n",
       "      <td>0.061801</td>\n",
       "      <td>0.039086</td>\n",
       "      <td>0.077950</td>\n",
       "      <td>0.052177</td>\n",
       "      <td>0.065651</td>\n",
       "      <td>0.000000</td>\n",
       "      <td>0.000000</td>\n",
       "      <td>0.000000</td>\n",
       "      <td>0.092127</td>\n",
       "      <td>...</td>\n",
       "      <td>NaN</td>\n",
       "      <td>NaN</td>\n",
       "      <td>NaN</td>\n",
       "      <td>NaN</td>\n",
       "      <td>NaN</td>\n",
       "      <td>NaN</td>\n",
       "      <td>NaN</td>\n",
       "      <td>NaN</td>\n",
       "      <td>NaN</td>\n",
       "      <td>NaN</td>\n",
       "    </tr>\n",
       "    <tr>\n",
       "      <th>6</th>\n",
       "      <td>0.036213</td>\n",
       "      <td>0.046763</td>\n",
       "      <td>0.059792</td>\n",
       "      <td>0.059792</td>\n",
       "      <td>0.059792</td>\n",
       "      <td>0.047145</td>\n",
       "      <td>0.057999</td>\n",
       "      <td>0.056950</td>\n",
       "      <td>0.046401</td>\n",
       "      <td>0.033372</td>\n",
       "      <td>...</td>\n",
       "      <td>NaN</td>\n",
       "      <td>NaN</td>\n",
       "      <td>NaN</td>\n",
       "      <td>NaN</td>\n",
       "      <td>NaN</td>\n",
       "      <td>NaN</td>\n",
       "      <td>NaN</td>\n",
       "      <td>NaN</td>\n",
       "      <td>NaN</td>\n",
       "      <td>NaN</td>\n",
       "    </tr>\n",
       "    <tr>\n",
       "      <th>7</th>\n",
       "      <td>1.000000</td>\n",
       "      <td>5.000000</td>\n",
       "      <td>5.000000</td>\n",
       "      <td>11.000000</td>\n",
       "      <td>11.000000</td>\n",
       "      <td>6.000000</td>\n",
       "      <td>1.000000</td>\n",
       "      <td>3.000000</td>\n",
       "      <td>1.000000</td>\n",
       "      <td>3.000000</td>\n",
       "      <td>...</td>\n",
       "      <td>NaN</td>\n",
       "      <td>NaN</td>\n",
       "      <td>NaN</td>\n",
       "      <td>NaN</td>\n",
       "      <td>NaN</td>\n",
       "      <td>NaN</td>\n",
       "      <td>NaN</td>\n",
       "      <td>NaN</td>\n",
       "      <td>NaN</td>\n",
       "      <td>NaN</td>\n",
       "    </tr>\n",
       "    <tr>\n",
       "      <th>8</th>\n",
       "      <td>0.949023</td>\n",
       "      <td>0.929388</td>\n",
       "      <td>0.929388</td>\n",
       "      <td>0.925223</td>\n",
       "      <td>0.919273</td>\n",
       "      <td>0.927206</td>\n",
       "      <td>0.949023</td>\n",
       "      <td>0.916298</td>\n",
       "      <td>0.949023</td>\n",
       "      <td>0.938114</td>\n",
       "      <td>...</td>\n",
       "      <td>NaN</td>\n",
       "      <td>NaN</td>\n",
       "      <td>NaN</td>\n",
       "      <td>NaN</td>\n",
       "      <td>NaN</td>\n",
       "      <td>NaN</td>\n",
       "      <td>NaN</td>\n",
       "      <td>NaN</td>\n",
       "      <td>NaN</td>\n",
       "      <td>NaN</td>\n",
       "    </tr>\n",
       "  </tbody>\n",
       "</table>\n",
       "<p>9 rows × 116 columns</p>\n",
       "</div>"
      ],
      "text/plain": [
       "         0          1          2          3          4          5    \\\n",
       "0   6.100000   6.150000   6.150000   6.150000   6.150000   6.150000   \n",
       "1   0.081096   0.081096  -0.324384  -0.324384  -0.324384  -0.324384   \n",
       "2   0.949023   0.949023   0.949023   0.949023   0.916298   0.883573   \n",
       "3  11.718960  14.269162  19.428777  10.732330  10.532098  10.080152   \n",
       "4   6.100000   6.150000   6.200000   6.250000   6.300000   6.350000   \n",
       "5   0.000000   0.061801   0.039086   0.077950   0.052177   0.065651   \n",
       "6   0.036213   0.046763   0.059792   0.059792   0.059792   0.047145   \n",
       "7   1.000000   5.000000   5.000000  11.000000  11.000000   6.000000   \n",
       "8   0.949023   0.929388   0.929388   0.925223   0.919273   0.927206   \n",
       "\n",
       "         6          7          8          9    ...        106        107  \\\n",
       "0   6.200000   6.200000   6.200000   6.200000  ...  20.400000  20.450000   \n",
       "1  -0.324384  -0.081096  -0.162192  -0.162192  ...   3.162747   3.081651   \n",
       "2   0.949023   0.949023   0.949023   0.916298  ...   0.065450  -0.098175   \n",
       "3  20.837343  12.133065  12.203264  12.263045  ...  15.756983  12.920799   \n",
       "4   6.450000   6.500000   6.550000   6.600000  ...        NaN        NaN   \n",
       "5   0.000000   0.000000   0.000000   0.092127  ...        NaN        NaN   \n",
       "6   0.057999   0.056950   0.046401   0.033372  ...        NaN        NaN   \n",
       "7   1.000000   3.000000   1.000000   3.000000  ...        NaN        NaN   \n",
       "8   0.949023   0.916298   0.949023   0.938114  ...        NaN        NaN   \n",
       "\n",
       "         108        109        110        111        112        113  \\\n",
       "0  20.500000  20.550000  20.650000  20.700000  20.750000  20.800000   \n",
       "1   3.162747   3.243843   3.243843   3.162747   3.243843   3.162747   \n",
       "2  -0.098175  -0.098175  -0.098175  -0.098175  -0.098175  -0.130900   \n",
       "3  16.579803  11.111804   9.469504  17.266710   9.824371  10.226172   \n",
       "4        NaN        NaN        NaN        NaN        NaN        NaN   \n",
       "5        NaN        NaN        NaN        NaN        NaN        NaN   \n",
       "6        NaN        NaN        NaN        NaN        NaN        NaN   \n",
       "7        NaN        NaN        NaN        NaN        NaN        NaN   \n",
       "8        NaN        NaN        NaN        NaN        NaN        NaN   \n",
       "\n",
       "         114        115  \n",
       "0  20.800000  20.800000  \n",
       "1   3.162747   3.243843  \n",
       "2  -0.098175  -0.098175  \n",
       "3  10.467099   8.536636  \n",
       "4        NaN        NaN  \n",
       "5        NaN        NaN  \n",
       "6        NaN        NaN  \n",
       "7        NaN        NaN  \n",
       "8        NaN        NaN  \n",
       "\n",
       "[9 rows x 116 columns]"
      ]
     },
     "execution_count": 3,
     "metadata": {},
     "output_type": "execute_result"
    }
   ],
   "source": [
    "b"
   ]
  },
  {
   "cell_type": "code",
   "execution_count": 4,
   "metadata": {
    "scrolled": true
   },
   "outputs": [],
   "source": [
    "dp_c = []\n",
    "snr_c = []\n",
    "# t = []\n",
    "dp = b.iloc[1,:]\n",
    "snr = b.iloc[3,:]\n",
    "time = b.iloc[0,:]\n",
    "for i in b.iloc[4,:]:\n",
    "    dp_c.append(np.mean(dp[time==i]))\n",
    "    snr_c.append(np.mean(snr[time==i]))\n",
    "dp_c = [x for x in dp_c if str(x) != 'nan']\n",
    "snr_c = [x for x in snr_c if str(x) != 'nan']"
   ]
  },
  {
   "cell_type": "code",
   "execution_count": 5,
   "metadata": {},
   "outputs": [],
   "source": [
    "angle_c = b.iloc[8,:]\n",
    "num_pc = b.iloc[7,:]\n",
    "norm_range_std = b.iloc[6,:]\n",
    "angle_c = [x for x in angle_c if str(x) != 'nan']\n",
    "num_pc = [x for x in num_pc if str(x) != 'nan']\n",
    "norm_range_std = [x for x in norm_range_std if str(x) != 'nan']"
   ]
  },
  {
   "cell_type": "code",
   "execution_count": 6,
   "metadata": {},
   "outputs": [
    {
     "data": {
      "text/plain": [
       "(35, 5)"
      ]
     },
     "execution_count": 6,
     "metadata": {},
     "output_type": "execute_result"
    }
   ],
   "source": [
    "data = np.column_stack((dp_c,snr_c, angle_c, num_pc, norm_range_std))\n",
    "data.shape\n",
    "# type(data)"
   ]
  },
  {
   "cell_type": "code",
   "execution_count": null,
   "metadata": {},
   "outputs": [],
   "source": [
    "import pickle\n",
    "import random"
   ]
  },
  {
   "cell_type": "code",
   "execution_count": 105,
   "metadata": {},
   "outputs": [
    {
     "name": "stdout",
     "output_type": "stream",
     "text": [
      "26210 26210 5958 5958\n"
     ]
    }
   ],
   "source": [
    "with open('walking.pkl', 'rb') as f:\n",
    "    x1,y1 = pickle.load(f)\n",
    "with open('sprinting.pkl', 'rb') as f:\n",
    "    x2,y2 = pickle.load(f)\n",
    "with open('skating.pkl', 'rb') as f:\n",
    "    x3,y3 = pickle.load(f)\n",
    "with open('jogging.pkl', 'rb') as f:\n",
    "    x4,y4 = pickle.load(f)\n",
    "with open('crouching.pkl', 'rb') as f:\n",
    "    x5,y5 = pickle.load(f)\n",
    "    \n",
    "print(len(x1), len(y1), len(x2), len(y2))"
   ]
  },
  {
   "cell_type": "code",
   "execution_count": null,
   "metadata": {},
   "outputs": [],
   "source": []
  },
  {
   "cell_type": "code",
   "execution_count": 109,
   "metadata": {},
   "outputs": [],
   "source": [
    "x = x1+x2+x3+x4+x5\n",
    "y = y1+y2+y3+y4+y5\n",
    "\n",
    "test_x = []\n",
    "test_y = []\n",
    "train_x = []\n",
    "train_y = []\n",
    "\n",
    "n = len(x)\n",
    "\n",
    "for i in range(500):\n",
    "    idx = random.randint(0, n)\n",
    "    while idx>len(x):\n",
    "        idx = random.randint(0, n)\n",
    "    try:\n",
    "        test_x.append(x[idx].T)\n",
    "        test_y.append(y[idx].T)\n",
    "        del x[idx]\n",
    "        del y[idx]\n",
    "    except:\n",
    "        idx = random.randint(0, n)\n",
    "        test_x.append(x[idx].T)\n",
    "        test_y.append(y[idx].T)\n",
    "        del x[idx]\n",
    "        del y[idx]\n",
    "\n",
    "for i in range(len(x)):\n",
    "    train_x.append(x[i].T)\n",
    "    train_y.append(y[i].T)\n",
    "\n",
    "with open('motion16.pkl', 'wb') as f:\n",
    "    pickle.dump((train_x,train_y,test_x,test_y), f)\n",
    "    "
   ]
  },
  {
   "cell_type": "code",
   "execution_count": 110,
   "metadata": {},
   "outputs": [
    {
     "name": "stdout",
     "output_type": "stream",
     "text": [
      "61866 61866 500 500\n"
     ]
    }
   ],
   "source": [
    "print(len(x), len(y), len(test_x), len(test_y))"
   ]
  },
  {
   "cell_type": "code",
   "execution_count": 111,
   "metadata": {},
   "outputs": [
    {
     "data": {
      "text/plain": [
       "(5, 16)"
      ]
     },
     "execution_count": 111,
     "metadata": {},
     "output_type": "execute_result"
    }
   ],
   "source": [
    "train_x[0].shape"
   ]
  },
  {
   "cell_type": "code",
   "execution_count": 120,
   "metadata": {},
   "outputs": [
    {
     "name": "stdout",
     "output_type": "stream",
     "text": [
      "1441 1441\n"
     ]
    }
   ],
   "source": [
    "#for tests\n",
    "with open('crou_test.pkl', 'rb') as f:\n",
    "    x1,y1 = pickle.load(f)\n",
    "    \n",
    "print(len(x1), len(y1))\n"
   ]
  },
  {
   "cell_type": "code",
   "execution_count": 121,
   "metadata": {},
   "outputs": [],
   "source": [
    "train_x = []\n",
    "train_y = []\n",
    "\n",
    "for i in range(len(x1)):\n",
    "    train_x.append(x1[i].T)\n",
    "    train_y.append(y1[i].T)\n",
    "\n",
    "with open('crouching-test.pkl', 'wb') as f:\n",
    "    pickle.dump((train_x,train_y), f)"
   ]
  },
  {
   "cell_type": "code",
   "execution_count": 57,
   "metadata": {},
   "outputs": [],
   "source": [
    "data = [0.9833,0.96448,0.91809,0.97928,0.9494,0.91947,0.95984,0.94992,0.92982,0.91988,0.99986,0.90983,0.98991,0.97995,0.99994,0.98996,0.98996,0.93995,0.89995,0.92998,0.98997,0.96998,0.89999,0.98998,0.94999,0.97998,0.93999,0.96999,0.99998,0.94998,0.89998,0.94998,0.90995,0.97991,0.89989,0.93967,0.92981,0.96956,0.90882,0.94924,0.9294,0.89853,0.97842,0.89791,0.98198,0.87312,0.13058,-0.092327,-0.09982426,-0.019986523,-0.059996111,-0.039997539,-0.069991453,-0.029985993,-0.089984651,-0.099902894,-0.0985398,0.003454,0.67876,0.95172,0.90472,0.93121,0.93846,0.88951,0.939,0.96018,0.89153,0.96542,0.89737,0.98474,0.93342,0.89848,0.97919,0.95731,0.96855,0.9374,0.90682,0.92928,0.93957,0.99903,0.91904,0.93834,0.91825,0.96954,0.92976,0.98935,0.9596,0.919,0.93888,0.95976,0.91984,0.99971,0.97975,0.99974,0.99945,0.90988,0.95993,0.89986,0.96991,0.99988,0.96982,0.92988,0.92993,0.92987,0.92991,0.98989,0.91984,0.95986,0.93991,0.99981,0.93987,0.90983,0.99972,0.96977,0.93986,0.91983,0.98989,0.91985,0.95979,0.94979,0.94989,0.99984,0.90989,0.92984,0.96978,0.98978,0.92989,0.96983,0.96988,0.98984,0.99977,0.90979,0.89988,0.99985,0.90987,0.95988,0.94976,0.89983,0.95987,0.92988,0.90987,0.9799,0.92981,0.91986,0.90991,0.9299,0.92992,0.89993,0.97986,0.94993,0.94992,0.97995,0.93992,0.91996,0.90982,0.96995,0.95993,0.93996,0.95996,0.90997,0.96992,0.97997,0.96997,0.99995,0.95995,0.96994,0.97989,0.9899,0.96995,0.98988,0.90994,0.92995,0.9899,0.94991,0.95996,0.97989,0.98995,0.96996,0.93994,0.95994,0.99998,0.93993,0.90997,0.96997,0.91998,0.98997,0.95998,0.93997,0.95998,0.90999,0.99999,0.99999,0.91999,0.89996,0.91999,0.91998,0.90999,0.99998,0.93999,0.95997,0.92997,0.96999,0.98998,0.91998,0.94997,0.98998,0.99998,0.97999,0.99998,0.90999,0.97998,0.91999,0.98998,0.98999,0.90998,0.94999,0.91998,0.94999,0.89998,0.99999,0.98998,0.91998,0.91998,0.96998,0.89998,0.93999,0.89998,0.96999,0.89997,0.92998,0.98998,0.90999,0.96998,0.99999,0.91998,0.99999,0.97999,0.94999,0.99998,0.98999,0.93999,0.92999,0.95999,0.96999,0.99999,0.94999,0.95999,0.89999,0.94999,0.93999,0.92999,0.94999,0.89999,0.92999,0.90999,0.98999,0.98999,0.90999,0.97999,0.89999,0.91999,0.97999,0.89998,0.94998,0.96999,0.96998,0.97998,0.95997,0.97998,0.93998,0.91999,0.92998,0.99998,0.97996,0.91997,0.97998,0.97999,0.89998,0.92997,0.92997,0.95996,0.92998,0.99997,0.92998,0.91993,0.93996,0.92987,0.91998,0.94991,0.98993,0.96995,0.99989,0.99991,0.93993,0.99993,0.8997,0.98994,0.90988,0.92976,0.90993,0.98981,0.91962,0.91983,0.89988,0.95979,0.98993,0.94985,0.91965,0.97987,0.9299,0.96978,0.9199,0.97971,0.93938,0.92972,0.9598,0.9695,0.9996,0.92938,0.89762,0.92913,0.90918,0.96803,0.93811,0.95833,0.94868,0.9095,0.94958,0.95897,0.89914,0.90906,0.96936,0.93943,0.93959,0.94868,0.97921,0.95867,0.9893,0.9386,0.95928,0.97804,0.97821,0.95785,0.95813,0.91754,0.99819,0.96782,0.98873,0.96763,0.92877,0.99726,0.99879,0.89836,0.95874,0.99866,0.93882,0.98858,0.97882,0.94908,0.90836,0.89835,0.92833,0.92805,0.958,0.8986,0.97649,0.9862,0.89767,0.90696,0.9561,0.97693,0.94036,0.97542,0.91486,0.9395,0.96385,0.90273,0.79512,0.38993,0.55603,0.12925,0.79806,0.4505,0.17304,0.042777,0.049208,0.01524,0.014794,0.10347,0.015422,0.0090768,0.008342,0.0042468,0.0024048,0.0026173,0.0014692,0.00036594,0.0003043,0.00018827,0.00010099,0.00013362,0.000013543,0.000082984,0.000055907,0.000040104,0.000024529,0.000030322,6.4526E-06,6.0929E-06]"
   ]
  },
  {
   "cell_type": "code",
   "execution_count": 67,
   "metadata": {},
   "outputs": [
    {
     "data": {
      "text/plain": [
       "0.97987"
      ]
     },
     "metadata": {},
     "output_type": "display_data"
    }
   ],
   "source": [
    "import time\n",
    "from IPython.display import display, clear_output\n",
    "\n",
    "# dir(display)\n",
    "for i in range(20,len(data)-200):\n",
    "    clear_output(wait=True)\n",
    "    display(data[i+100])\n",
    "    time.sleep(.08)"
   ]
  },
  {
   "cell_type": "code",
   "execution_count": null,
   "metadata": {},
   "outputs": [],
   "source": []
  },
  {
   "cell_type": "code",
   "execution_count": null,
   "metadata": {},
   "outputs": [],
   "source": []
  }
 ],
 "metadata": {
  "kernelspec": {
   "display_name": "Python 3",
   "language": "python",
   "name": "python3"
  },
  "language_info": {
   "codemirror_mode": {
    "name": "ipython",
    "version": 3
   },
   "file_extension": ".py",
   "mimetype": "text/x-python",
   "name": "python",
   "nbconvert_exporter": "python",
   "pygments_lexer": "ipython3",
   "version": "3.6.8"
  }
 },
 "nbformat": 4,
 "nbformat_minor": 2
}
